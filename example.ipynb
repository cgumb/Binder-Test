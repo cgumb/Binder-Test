{
 "cells": [
  {
   "cell_type": "markdown",
   "metadata": {},
   "source": [
    "# Interactive C++ in Jupyter with xeus-cling\n",
    "This notebook runs C++ interactively!"
   ]
  },
  {
   "cell_type": "code",
   "execution_count": null,
   "metadata": {
    "kernelspec": {
     "display_name": "C++17",
     "language": "C++",
     "name": "xcpp17"
    }
   },
   "outputs": [],
   "source": [
    "#include <iostream>\n",
    "std::cout << \"Hello, world from C++ in Jupyter!\" << std::endl;"
   ]
  }
 ],
 "metadata": {
  "kernelspec": {
   "display_name": "C++17",
   "language": "C++",
   "name": "xcpp17"
  },
  "language_info": {
   "codemirror_mode": "text/x-c++src",
   "file_extension": ".cpp",
   "mimetype": "text/x-c++src",
   "name": "c++",
   "pygments_lexer": "c++",
   "version": "17"
  }
 },
 "nbformat": 4,
 "nbformat_minor": 2
}

