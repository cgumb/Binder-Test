{
 "cells": [
  {
   "cell_type": "markdown",
   "id": "7ee40836-66b4-4a9d-a3c8-db837e63c613",
   "metadata": {
    "editable": true,
    "slideshow": {
     "slide_type": "skip"
    },
    "tags": []
   },
   "source": [
    "# Installation\n",
    "\n",
    "```bash\n",
    "micromamba create -n cling python=3.10\n",
    "micromamba activate cling\n",
    "micromamba install xeus-cling jupyter llvm-openmp -c conda-forge\n",
    "```\n",
    "\n",
    "For the slide view, also do\n",
    "```bash\n",
    "micromamba install jupyterlab_rise -c conda-forge\n",
    "```\n",
    "\n",
    "Then add `-fopenmp` to `argv` in\n",
    "```\n",
    "$MAMBA_ROOT_PREFIX/envs/cling/share/jupyter/kernels/xcpp11/kernel.json\n",
    "```\n",
    "\n",
    "so that it looks something like\n",
    "```\n",
    "{\n",
    "  \"display_name\": \"C++11\",\n",
    "  \"argv\": [\n",
    "      \"/home/anders/micromamba/envs/cling/bin/xcpp\",\n",
    "      \"-f\",\n",
    "      \"{connection_file}\",\n",
    "      \"-std=c++11\",\n",
    "      \"-fopenmp\"\n",
    "  ],\n",
    "  \"language\": \"C++11\"\n",
    "}\n",
    "```\n",
    "\n",
    "Note: On my laptop, only the C++11 kernel works.\n",
    "\n",
    "To use OpenMP in a notebook:"
   ]
  },
  {
   "cell_type": "code",
   "execution_count": 1,
   "id": "ac42ccc2-c642-420e-8f97-73ca9df75f57",
   "metadata": {
    "editable": true,
    "slideshow": {
     "slide_type": "skip"
    },
    "tags": []
   },
   "outputs": [],
   "source": [
    "// #pragma cling load(\"libomp\")\n",
    "#pragma cling -fopenmp\n",
    "#include <omp.h>"
   ]
  },
  {
   "cell_type": "markdown",
   "id": "63800948-a4e5-4276-aaa3-7510cc5fcaa1",
   "metadata": {
    "editable": true,
    "slideshow": {
     "slide_type": "skip"
    },
    "tags": []
   },
   "source": [
    "Test that it works:"
   ]
  },
  {
   "cell_type": "code",
   "execution_count": 2,
   "id": "4249b562-c129-4da6-86a1-6bf4119a435f",
   "metadata": {
    "editable": true,
    "slideshow": {
     "slide_type": "skip"
    },
    "tags": []
   },
   "outputs": [
    {
     "name": "stdout",
     "output_type": "stream",
     "text": [
      "hello from 3 of 12\n",
      "hello from 0 of 12\n",
      "hello from 2 of 12\n",
      "hello from 10 of 12\n",
      "hello from 8 of 12\n",
      "hello from 1 of 12\n",
      "hello from 9 of 12\n",
      "hello from 4 of 12\n",
      "hello from 11 of 12\n",
      "hello from 7 of 12\n",
      "hello from 5 of 12\n",
      "hello from 6 of 12\n"
     ]
    }
   ],
   "source": [
    "#pragma omp parallel\n",
    "{\n",
    "    printf(\"hello from %d of %d\\n\", omp_get_thread_num(), omp_get_num_threads());\n",
    "}"
   ]
  },
  {
   "cell_type": "markdown",
   "id": "5d1b842c-9678-4412-a078-a22070a0c7f6",
   "metadata": {
    "editable": true,
    "slideshow": {
     "slide_type": "skip"
    },
    "tags": []
   },
   "source": [
    "If it doesn't work, try to close everything, kill Jupyter, close the terminal, reopen, reactivate the env, and reopen Jupyter."
   ]
  },
  {
   "cell_type": "markdown",
   "id": "5ffc385c-6a24-4c47-a6c7-a7215e989f6d",
   "metadata": {
    "editable": true,
    "slideshow": {
     "slide_type": "skip"
    },
    "tags": []
   },
   "source": [
    "Formatting:"
   ]
  },
  {
   "cell_type": "code",
   "execution_count": 3,
   "id": "6a258c46-e7ad-4669-8670-0cc2c1cdf54b",
   "metadata": {
    "editable": true,
    "slideshow": {
     "slide_type": "skip"
    },
    "tags": []
   },
   "outputs": [],
   "source": [
    "#include \"nlohmann/json.hpp\"\n",
    "\n",
    "namespace nl = nlohmann;\n",
    "\n",
    "struct html\n",
    "{   \n",
    "    inline html(const std::string& value)\n",
    "    {\n",
    "        m_value = value;\n",
    "    }\n",
    "    \n",
    "    std::string m_value;\n",
    "};\n",
    "\n",
    "nl::json mime_bundle_repr(const html& h)\n",
    "{\n",
    "    auto bundle = nl::json::object();\n",
    "    bundle[\"text/html\"] = h.m_value;\n",
    "    return bundle;\n",
    "}"
   ]
  },
  {
   "cell_type": "code",
   "execution_count": 4,
   "id": "5efa8251-9e10-43e1-8854-1731ff7c6747",
   "metadata": {
    "editable": true,
    "slideshow": {
     "slide_type": "skip"
    },
    "tags": []
   },
   "outputs": [
    {
     "data": {
      "text/html": [
       "\n",
       "<style>\n",
       ":root {\n",
       "  --jp-code-font-size: 22px;\n",
       "}\n",
       "</style>\n"
      ]
     },
     "execution_count": 4,
     "metadata": {},
     "output_type": "execute_result"
    }
   ],
   "source": [
    "html h(R\"(\n",
    "<style>\n",
    ":root {\n",
    "  --jp-code-font-size: 22px;\n",
    "}\n",
    "</style>\n",
    ")\");\n",
    "\n",
    "h"
   ]
  },
  {
   "cell_type": "markdown",
   "id": "26ebfe50-d735-44cd-bc45-f95db3943dfe",
   "metadata": {
    "editable": true,
    "slideshow": {
     "slide_type": "skip"
    },
    "tags": []
   },
   "source": [
    "Utility functions:"
   ]
  },
  {
   "cell_type": "code",
   "execution_count": 5,
   "id": "9b7c2504-0f27-4e40-aaac-063e5cdd2c3f",
   "metadata": {
    "editable": true,
    "slideshow": {
     "slide_type": "skip"
    },
    "tags": []
   },
   "outputs": [],
   "source": [
    "#include <vector>\n",
    "#include <chrono>\n",
    "#include <thread>\n",
    "\n",
    "void sleep(int ms){\n",
    "    std::this_thread::sleep_for(std::chrono::milliseconds(ms));\n",
    "}"
   ]
  },
  {
   "cell_type": "markdown",
   "id": "f44aed65-fcf4-4fee-abf2-304c4a19ef23",
   "metadata": {
    "editable": true,
    "slideshow": {
     "slide_type": "slide"
    },
    "tags": []
   },
   "source": [
    "<center><h1>Lecture 6: Introduction to OpenMP</h1></center>\n",
    "\n",
    "<center><h3>CS205 2/8/2024</h3></center>\n",
    "<center><h3>Anders Johansson</h3></center>\n"
   ]
  },
  {
   "cell_type": "markdown",
   "id": "7c473c80-b273-4a60-bcb4-362c6acda4cb",
   "metadata": {
    "editable": true,
    "slideshow": {
     "slide_type": "slide"
    },
    "tags": []
   },
   "source": [
    "## Previous lecture\n",
    "Threading in theory\n",
    "- Race conditions\n",
    "- Sequential consistency\n",
    "- The need for relaxed memory consistency in shared memory programming\n",
    "- Critical sections and mutual exclusion"
   ]
  },
  {
   "cell_type": "markdown",
   "id": "c862c15c-a5a4-4124-ac19-8f8bf0c92b02",
   "metadata": {
    "editable": true,
    "slideshow": {
     "slide_type": "fragment"
    },
    "tags": []
   },
   "source": [
    "## Today\n",
    "Threading in practice: Intro to OpenMP  \n",
    "- What is OpenMP and why we prefer it\n",
    "- Discussion of reading assignment\n",
    "- Fork/join parallel regions in OpenMP\n",
    "- Work sharing constructs\n",
    "- Loop scheduling (load balancing control)\n",
    "- Nested loops and loop collapsing\n",
    "- Reduction operator"
   ]
  },
  {
   "cell_type": "markdown",
   "id": "b4dcc1f3-7002-42c1-9e92-34e5453fcde3",
   "metadata": {
    "editable": true,
    "slideshow": {
     "slide_type": "slide"
    },
    "tags": []
   },
   "source": [
    "# OpenMP overview\n",
    "OpenMP: Open Multi-Processing\n",
    "\n",
    "What it does:\n",
    "- An Application Programming Interface (API) for explicit\n",
    "direct multi-threaded parallelism on shared memory\n",
    "architectures\n",
    "- Consists of 3 components:\n",
    "    - Compiler directives (not present in POSIX threads or C++11)\n",
    "    - Runtime library calls\n",
    "    - Environment variables (not present in POSIX threads or C++11)\n",
    "- A standard widely used in industry and academic codes"
   ]
  },
  {
   "cell_type": "markdown",
   "id": "47163d16-3f08-4444-835c-bb9b2cf9100e",
   "metadata": {
    "editable": true,
    "slideshow": {
     "slide_type": "fragment"
    },
    "tags": []
   },
   "source": [
    "What it does not:\n",
    "- Is not required to check your code for data races, deadlocks\n",
    "or whether your code conforms with the standard\n",
    "- Is not designed for distributed memory systems (MPI is)\n",
    "- Is not designed for parallel I/O (it could be hacked\n",
    "with synchronization primitives)"
   ]
  },
  {
   "cell_type": "markdown",
   "id": "a0436aa4-2bd9-4554-938a-10259b9797c8",
   "metadata": {
    "editable": true,
    "slideshow": {
     "slide_type": "subslide"
    },
    "tags": []
   },
   "source": [
    "## OpenMP Summary\n",
    "Typical use case:\n",
    "```cpp\n",
    "#pragma omp parallel for\n",
    "for(int i = 0; i < N; i++){\n",
    "    do_stuff(i);\n",
    "}\n",
    "```"
   ]
  },
  {
   "cell_type": "markdown",
   "id": "4625defa-37c5-4d2f-b52d-c66cec99b4dd",
   "metadata": {
    "editable": true,
    "slideshow": {
     "slide_type": "fragment"
    },
    "tags": []
   },
   "source": [
    "![test](pics/slide4.jpg)"
   ]
  },
  {
   "cell_type": "markdown",
   "id": "2ab2299e-36bb-41b4-901b-a5968e613926",
   "metadata": {
    "editable": true,
    "slideshow": {
     "slide_type": "subslide"
    },
    "tags": []
   },
   "source": [
    "## OpenMP overview\n",
    "![blah](pics/slide5.jpg)"
   ]
  },
  {
   "cell_type": "markdown",
   "id": "8f9a44ef-ebed-4537-90f2-c47ed098050e",
   "metadata": {
    "editable": true,
    "slideshow": {
     "slide_type": "subslide"
    },
    "tags": []
   },
   "source": [
    "# OpenMP overview\n",
    "\n",
    "- Easy to use with simple compiler directives and allows to parallelize\n",
    "existing sequential programs with minimum effort.\n",
    "- Parallelization can be done incrementally. Work on one compute kernel, benchmark the effort and then proceed with other parallelization.\n",
    "- You can implement coarse-grained parallelism (e.g. via tasks) and fine-grained parallelism (e.g. via locks and atomics).\n",
    "    - Coarse-grained: Computation time >> communication time\n",
    "    - Fine-grained: Computation time << communication time\n",
    "- Widely used in industry and academia with large community support.\n",
    "Portability:\n",
    "    - C, C++ and Fortran\n",
    "    - Supports Unix/Linux as well as Windows"
   ]
  },
  {
   "cell_type": "markdown",
   "id": "674bf412-abfc-4d98-957b-d0b88c88d508",
   "metadata": {
    "editable": true,
    "slideshow": {
     "slide_type": "slide"
    },
    "tags": []
   },
   "source": [
    "## OpenMP alternatives\n",
    "C++ threads\n",
    "- Just a way to get parallel workers\n",
    "- No built-ins for parallelizing loops, distributing work, reductions, etc.\n",
    "- More general than OpenMP, but less convenient for HPC and not widely used"
   ]
  },
  {
   "cell_type": "markdown",
   "id": "0d6fe259-3165-4da8-935d-3a7eae7725f5",
   "metadata": {
    "editable": true,
    "slideshow": {
     "slide_type": "fragment"
    },
    "tags": []
   },
   "source": [
    "C++ standard parallelism\n",
    "- Parallel implementations of common operations, can be used to \"replace\" OpenMP\n",
    "- Mixed implementation status in compilers\n",
    "- Less convenient than OpenMP"
   ]
  },
  {
   "cell_type": "markdown",
   "id": "b8dc46a7-5594-4267-9380-54ed42432a6d",
   "metadata": {
    "editable": true,
    "slideshow": {
     "slide_type": "fragment"
    },
    "tags": []
   },
   "source": [
    "Old and niche:\n",
    "- pthreads: Like C++ threads but older\n",
    "- Intel TBB: Somewhat similar to OpenMP, but not widely used"
   ]
  },
  {
   "cell_type": "markdown",
   "id": "e9eaf80e-e35f-4650-b195-62948fe22c44",
   "metadata": {
    "editable": true,
    "slideshow": {
     "slide_type": "subslide"
    },
    "tags": []
   },
   "source": [
    "## OpenMP vs. C++ threads"
   ]
  },
  {
   "cell_type": "code",
   "execution_count": null,
   "id": "f0d11c79-92dd-48b5-913f-eb85684cc53a",
   "metadata": {
    "editable": true,
    "slideshow": {
     "slide_type": ""
    },
    "tags": []
   },
   "outputs": [],
   "source": [
    "void square(int *x){\n",
    "    *x = (*x)*(*x);\n",
    "}\n",
    "std::vector<int> x{1,2,3,4,5,6,7};"
   ]
  },
  {
   "cell_type": "markdown",
   "id": "a7e3b00d-64bc-4deb-ac7d-027c74250c82",
   "metadata": {
    "editable": true,
    "slideshow": {
     "slide_type": "fragment"
    },
    "tags": []
   },
   "source": [
    "OpenMP:"
   ]
  },
  {
   "cell_type": "code",
   "execution_count": null,
   "id": "5d3d2740-722a-4d8b-8631-1b04ec1a44ea",
   "metadata": {
    "editable": true,
    "slideshow": {
     "slide_type": ""
    },
    "tags": []
   },
   "outputs": [],
   "source": [
    "#pragma omp parallel for\n",
    "for(int i = 0; i < x.size(); i++){\n",
    "    square(&x[i]);\n",
    "}\n",
    "x"
   ]
  },
  {
   "cell_type": "markdown",
   "id": "a715b17a-0f10-4631-a301-3e6f37437f71",
   "metadata": {
    "editable": true,
    "slideshow": {
     "slide_type": "fragment"
    },
    "tags": []
   },
   "source": [
    "C++ threads (note: may not want 1-1 mapping, needs to be done manually):"
   ]
  },
  {
   "cell_type": "code",
   "execution_count": null,
   "id": "db3b59a8-b365-499a-9b9b-2c00fc387ed9",
   "metadata": {
    "editable": true,
    "slideshow": {
     "slide_type": ""
    },
    "tags": []
   },
   "outputs": [],
   "source": [
    "#include <thread>\n",
    "std::vector<std::thread> threads(x.size());\n",
    "for(int i = 0; i < x.size(); i++){\n",
    "    threads[i] = std::thread(square, &x[i]);\n",
    "}\n",
    "for(std::thread &t : threads)\n",
    "    t.join();\n",
    "x"
   ]
  },
  {
   "cell_type": "markdown",
   "id": "5c31dd03-ed6c-4bee-ae97-c250b66b2875",
   "metadata": {
    "editable": true,
    "slideshow": {
     "slide_type": "slide"
    },
    "tags": []
   },
   "source": [
    "## OpenMP directives\n",
    "\n",
    "Directives are things ignored by the compiler unless it knows not to, often start with `#pragma`\n",
    "\n",
    "OpenMP: Lines start with `#pragma omp`"
   ]
  },
  {
   "cell_type": "code",
   "execution_count": null,
   "id": "1f125dde-b4dd-4fe6-9ae6-32c7bb7d7287",
   "metadata": {
    "editable": true,
    "slideshow": {
     "slide_type": ""
    },
    "tags": []
   },
   "outputs": [],
   "source": [
    "%%file simple.cpp\n",
    "#include <cstdio>\n",
    "int main(){\n",
    "    #pragma omp parallel for\n",
    "    for(int i = 0; i < 20; i++) std::printf(\"-%d-\", i);\n",
    "}"
   ]
  },
  {
   "cell_type": "code",
   "execution_count": null,
   "id": "e9581fea-ff92-42a2-b7c0-da9fd258fa84",
   "metadata": {
    "editable": true,
    "slideshow": {
     "slide_type": "fragment"
    },
    "tags": []
   },
   "outputs": [],
   "source": [
    "! g++ -Wall simple.cpp"
   ]
  },
  {
   "cell_type": "code",
   "execution_count": null,
   "id": "a41f6098-c07e-4040-a8b8-06fed355f58b",
   "metadata": {
    "editable": true,
    "slideshow": {
     "slide_type": ""
    },
    "tags": []
   },
   "outputs": [],
   "source": [
    "! ./a.out"
   ]
  },
  {
   "cell_type": "code",
   "execution_count": null,
   "id": "dd4c8598-d57a-41cc-aa47-2afeeb5882c0",
   "metadata": {
    "editable": true,
    "slideshow": {
     "slide_type": "fragment"
    },
    "tags": []
   },
   "outputs": [],
   "source": [
    "! g++ -Wall -fopenmp simple.cpp"
   ]
  },
  {
   "cell_type": "code",
   "execution_count": null,
   "id": "f0f8c14b-0bda-41f3-976b-8173cbbc3a37",
   "metadata": {
    "editable": true,
    "scrolled": true,
    "slideshow": {
     "slide_type": ""
    },
    "tags": []
   },
   "outputs": [],
   "source": [
    "! ./a.out"
   ]
  },
  {
   "cell_type": "markdown",
   "id": "535ae8e5-ef8c-4943-ba57-37da49bd8dcc",
   "metadata": {
    "editable": true,
    "slideshow": {
     "slide_type": "subslide"
    },
    "tags": []
   },
   "source": [
    "## OpenMP directives\n",
    "\n",
    "Syntax:\n",
    "```\n",
    "#pragma omp directive-name [clause [[,]clause] ...] new-line\n",
    "    structured block\n",
    "```"
   ]
  },
  {
   "cell_type": "markdown",
   "id": "279fd70a-23ab-4117-a582-1eed639b27b7",
   "metadata": {
    "editable": true,
    "slideshow": {
     "slide_type": "fragment"
    },
    "tags": []
   },
   "source": [
    "Example clauses: `parallel`, `numthreads(4)`, `collapse(2)`, `simd`\n",
    "![struc](pics/structured.jpg)"
   ]
  },
  {
   "cell_type": "markdown",
   "id": "3abd6d7e-4cdf-46e5-961b-c827ec6aebd7",
   "metadata": {
    "editable": true,
    "slideshow": {
     "slide_type": "subslide"
    },
    "tags": []
   },
   "source": [
    "## Compiling OpenMP\n",
    "With GCC: Add the `-fopenmp` flag\n",
    "\n",
    "This\n",
    "- Includes the right directories and links to the right libraries\n",
    "- Enables OpenMP support in the compiler\n",
    "- Defines the `_OPENMP` macro (YYYYMM int for standard)"
   ]
  },
  {
   "cell_type": "code",
   "execution_count": null,
   "id": "27a8ae8a-8430-4ab5-82e7-3b99c957e1a0",
   "metadata": {
    "editable": true,
    "slideshow": {
     "slide_type": ""
    },
    "tags": []
   },
   "outputs": [],
   "source": [
    "%%file conditional.cpp\n",
    "#include <cstdio>\n",
    "int main(){\n",
    "#ifdef _OPENMP\n",
    "    std::printf(\"OpenMP standard %d\\n\", _OPENMP);\n",
    "#else\n",
    "    std::printf(\"No OpenMP\\n\");\n",
    "#endif\n",
    "}"
   ]
  },
  {
   "cell_type": "code",
   "execution_count": null,
   "id": "5182e1fd-1bb5-4629-a0c2-b04aaa6d85fc",
   "metadata": {
    "editable": true,
    "slideshow": {
     "slide_type": ""
    },
    "tags": []
   },
   "outputs": [],
   "source": [
    "! g++ conditional.cpp && ./a.out"
   ]
  },
  {
   "cell_type": "code",
   "execution_count": null,
   "id": "22e5de94-311a-4064-9f80-97a687810e59",
   "metadata": {
    "editable": true,
    "slideshow": {
     "slide_type": ""
    },
    "tags": []
   },
   "outputs": [],
   "source": [
    "! g++ -fopenmp conditional.cpp && ./a.out"
   ]
  },
  {
   "cell_type": "markdown",
   "id": "dafacf03-25a6-4434-9572-f37ebfa5b2e7",
   "metadata": {
    "editable": true,
    "slideshow": {
     "slide_type": "slide"
    },
    "tags": []
   },
   "source": [
    "## Reading assignment: OpenMP technicalities\n",
    "The reading assignment for this class was about the following three OpenMP topics:\n",
    "1. Terminology: there are many terms in the glossary, you do not need to know all by heart. We will summarize the most important next.\n",
    "2. Execution model: we already touched this, fork/join model using OpenMP directives.\n",
    "3. Memory model: concretization of what was have discussed last time."
   ]
  },
  {
   "cell_type": "markdown",
   "id": "e682b6df-bff9-435f-9354-45f9689a0671",
   "metadata": {
    "editable": true,
    "slideshow": {
     "slide_type": "fragment"
    },
    "tags": []
   },
   "source": [
    "The document you were reading is the OpenMP specifcation (the ground truth).\n",
    "- Recall: OpenMP is a standard, different compiler vendors implement this standard following the specification. There can be implementation dependent behavior which is mentioned in the specification when this is to be expected.\n",
    "- Everything you need to know about OpenMP is written in the specification. It is your main reference but can be a bit cumbersome to comprehend at times (specifications are similar in style to law documents)."
   ]
  },
  {
   "cell_type": "markdown",
   "id": "0f735915-7e99-4802-89aa-ab1aa9b86f83",
   "metadata": {
    "editable": true,
    "slideshow": {
     "slide_type": "subslide"
    },
    "tags": []
   },
   "source": [
    "## OpenMP specification\n",
    "\n",
    "Because OpenMP supports C, C++ and Fortran, details for each of the three languages are interleaved in the specification with text that applies generally. It allows you to skip certain details you are not interested in without loosing track.\n",
    "\n",
    "<div>\n",
    "<img src=\"pics/spec_directives.jpg\" width=1000/>\n",
    "</div>"
   ]
  },
  {
   "cell_type": "markdown",
   "id": "9fb1629e-39de-44c5-92c2-0ce5919c8915",
   "metadata": {
    "editable": true,
    "slideshow": {
     "slide_type": "subslide"
    },
    "tags": []
   },
   "source": [
    "# OpenMP terminology\n",
    "<img src=\"pics/spec_terminology.jpg\" height=700/>"
   ]
  },
  {
   "cell_type": "markdown",
   "id": "1ed1a1cf-36a1-4d7d-a128-52f0670ba089",
   "metadata": {
    "editable": true,
    "slideshow": {
     "slide_type": "subslide"
    },
    "tags": []
   },
   "source": [
    "## OpenMP execution model\n",
    "\n",
    "![as](pics/spec_execution.jpg)"
   ]
  },
  {
   "cell_type": "markdown",
   "id": "25bf2b3a-0e73-451b-b7fd-a6c9f2d5b9cb",
   "metadata": {
    "editable": true,
    "slideshow": {
     "slide_type": "subslide"
    },
    "tags": []
   },
   "source": [
    "## OpenMP memory model\n",
    "\n",
    "The OpenMP API provides a relaxed consistency shared memory model.\n",
    "- Threads have a temporary view of the memory which includes registers, cache or other local storage.\n",
    "- The temporary view allows threads to cache variables and therefore avoid going to main memory.\n",
    "- Using caches in a multi-threaded environment introduces a new problem we have not talked about yet (lecture 9)."
   ]
  },
  {
   "cell_type": "markdown",
   "id": "46bf089b-83ee-45ff-a0a0-ce2209749253",
   "metadata": {
    "editable": true,
    "slideshow": {
     "slide_type": "fragment"
    },
    "tags": []
   },
   "source": [
    "**Types of variables inside parallel regions:**\n",
    "- A directive that accepts data-sharing attribute clauses determines two kinds of access variables used in the associated structured block: shared and private.\n",
    "- Each reference to a *shared* variable in the structured block becomes a reference to the original variable that exists outside of the structured block.\n",
    "- For each *private* variable referenced in the structured block, a new version of the original variable is created in the thread private memory (of same type and size)"
   ]
  },
  {
   "cell_type": "markdown",
   "id": "1b2e1f28-7e71-4fda-9f83-69501a1fcf88",
   "metadata": {
    "editable": true,
    "slideshow": {
     "slide_type": "slide"
    },
    "tags": []
   },
   "source": [
    "## OpenMP parallel regions\n",
    "- Sequential execution in the main thread until a `parallel` directive.\n",
    "- When encountering `parallel`, a *team of threads* is created, the main thread is thread 0.\n",
    "- At the end of the `parallel` region, an *implicit barrier* synchronizes the threads"
   ]
  },
  {
   "cell_type": "code",
   "execution_count": null,
   "id": "004e4c6b-bf04-44a3-87e4-53ad4c63ce9a",
   "metadata": {
    "editable": true,
    "slideshow": {
     "slide_type": ""
    },
    "tags": []
   },
   "outputs": [],
   "source": [
    "std::printf(\"1st sequential region\\n\");\n",
    "\n",
    "#pragma omp parallel num_threads(4)\n",
    "std::printf(\"thread %d in parallel region\\n\",\n",
    "    omp_get_thread_num());\n",
    "\n",
    "std::printf(\"2nd sequential region\");"
   ]
  },
  {
   "cell_type": "markdown",
   "id": "a811bcfd-cefa-4566-a773-9b1b6c84236b",
   "metadata": {
    "editable": true,
    "slideshow": {
     "slide_type": "subslide"
    },
    "tags": []
   },
   "source": [
    "## OpenMP parallel regions syntax\n",
    "![i](pics/directives.jpg)"
   ]
  },
  {
   "cell_type": "markdown",
   "id": "e731d16c-fa9f-4610-98ec-a1778ed18beb",
   "metadata": {
    "editable": true,
    "slideshow": {
     "slide_type": "subslide"
    },
    "tags": []
   },
   "source": [
    "## Controlling the number of threads\n",
    "![asd](pics/nthreads.jpg)\n",
    "\n",
    "Caveat: This is only an upper bound, the compiler/implementation is allowed to use fewer threads.\n",
    "\n",
    "Set the environment variable `OMP_DYNAMIC=false` to force the number of threads."
   ]
  },
  {
   "cell_type": "markdown",
   "id": "f9a8caf6-bd7f-4a64-b6b5-eef2dfca9a69",
   "metadata": {
    "editable": true,
    "slideshow": {
     "slide_type": "slide"
    },
    "tags": []
   },
   "source": [
    "## Using OpenMP parallelism\n",
    "![asd](pics/parallelism.jpg)"
   ]
  },
  {
   "cell_type": "markdown",
   "id": "85720293-7306-4aaf-b49c-e68743439d89",
   "metadata": {
    "editable": true,
    "slideshow": {
     "slide_type": "subslide"
    },
    "tags": []
   },
   "source": [
    "## OpenMP worksharing: Loops\n",
    "Manual worksharing: Parallelize the following loop with 3 threads (print also which thread does what)"
   ]
  },
  {
   "cell_type": "code",
   "execution_count": null,
   "id": "069f3524-6fa7-45fb-b292-19b3b7ba41d6",
   "metadata": {
    "editable": true,
    "slideshow": {
     "slide_type": ""
    },
    "tags": []
   },
   "outputs": [],
   "source": [
    "int N = 8;\n",
    "for(int i = 0; i < N; i++)\n",
    "    std::printf(\"-%d/%d-\", i, omp_get_thread_num());"
   ]
  },
  {
   "cell_type": "markdown",
   "id": "f2868abb-8054-4867-b4a0-e810d7147d99",
   "metadata": {
    "editable": true,
    "slideshow": {
     "slide_type": "subslide"
    },
    "tags": []
   },
   "source": [
    "## OpenMP worksharing: Loops\n",
    "Automated solution with `loop` directive!"
   ]
  },
  {
   "cell_type": "markdown",
   "id": "23cee952-5e2c-4804-be55-4302124e2788",
   "metadata": {
    "editable": true,
    "slideshow": {
     "slide_type": ""
    },
    "tags": []
   },
   "source": [
    "Inside a parallel region:"
   ]
  },
  {
   "cell_type": "code",
   "execution_count": null,
   "id": "2ecd55c7-19f4-4da9-b506-af7f7e5aedc3",
   "metadata": {
    "editable": true,
    "slideshow": {
     "slide_type": ""
    },
    "tags": []
   },
   "outputs": [],
   "source": [
    "int N = 8;\n",
    "#pragma omp parallel num_threads(3)\n",
    "{\n",
    "    #pragma omp for\n",
    "    for(int i = 0; i < N; i++)\n",
    "        std::printf(\"-%d/%d-\", i, omp_get_thread_num());\n",
    "}"
   ]
  },
  {
   "cell_type": "markdown",
   "id": "5ee1a268-20b7-45fa-a22e-6a9cdb60d68b",
   "metadata": {
    "editable": true,
    "slideshow": {
     "slide_type": "fragment"
    },
    "tags": []
   },
   "source": [
    "Or simply:"
   ]
  },
  {
   "cell_type": "code",
   "execution_count": null,
   "id": "e724585b-2043-4311-a787-afd614eefe67",
   "metadata": {
    "editable": true,
    "slideshow": {
     "slide_type": ""
    },
    "tags": []
   },
   "outputs": [],
   "source": [
    "int N = 8;\n",
    "#pragma omp parallel for num_threads(3)\n",
    "for(int i = 0; i < N; i++)\n",
    "    std::printf(\"-%d/%d-\", i, omp_get_thread_num());"
   ]
  },
  {
   "cell_type": "markdown",
   "id": "1fc8836a-f369-41e2-8aa8-0d533adccf3a",
   "metadata": {
    "editable": true,
    "slideshow": {
     "slide_type": "subslide"
    },
    "tags": []
   },
   "source": [
    "## OpenMP worksharing: Loops\n",
    "What will this print?"
   ]
  },
  {
   "cell_type": "code",
   "execution_count": null,
   "id": "5c3a0095-474f-41e0-8684-3d0cbdf1cdcc",
   "metadata": {
    "editable": true,
    "slideshow": {
     "slide_type": ""
    },
    "tags": []
   },
   "outputs": [],
   "source": [
    "int N = 8;\n",
    "#pragma omp parallel num_threads(3)\n",
    "{\n",
    "    for(int i = 0; i < N; i++)\n",
    "        std::printf(\"-%d/%d-\", i, omp_get_thread_num());\n",
    "}"
   ]
  },
  {
   "cell_type": "markdown",
   "id": "f8cc4cc7-bad4-44e5-9a59-995a51b30f26",
   "metadata": {
    "editable": true,
    "slideshow": {
     "slide_type": "fragment"
    },
    "tags": []
   },
   "source": [
    "Without any worksharing clauses, each thread will execute all statements without any coordination between threads."
   ]
  },
  {
   "cell_type": "markdown",
   "id": "c3f40ff5-7eab-41ee-9c1d-c723241a0d82",
   "metadata": {
    "editable": true,
    "slideshow": {
     "slide_type": "subslide"
    },
    "tags": []
   },
   "source": [
    "## OpenMP loop restrictions\n",
    "\n",
    "Loops need to be \"simple enough\" so that the compiler can figure out how to distribute the work.\n",
    "\n",
    "See section [\"2.11.1  Canonical Loop Nest Form\"](https://www.openmp.org/spec-html/5.1/openmpsu45.html#x70-700002.11.1) of the specification.\n",
    "\n",
    "Standard loops:\n",
    "```\n",
    "for (init-expr; test-expr; incr-expr)\n",
    "```\n",
    "where `init-expr` is of the form\n",
    "```\n",
    "type x = y1\n",
    "```\n",
    "`test-expr` is \n",
    "```\n",
    "x < / <= / >= / > / != y2\n",
    "```\n",
    "and `incr-expr` adds or subtracts a constant (includes incrementation).\n",
    "\n",
    "Since OpenMP 3.0:\n",
    "```\n",
    "for(auto it = vec.begin(); it != vec.end(); it++)\n",
    "```\n",
    "\n",
    "Since OpenMP 5.0:\n",
    "```\n",
    "for(auto x : vec)\n",
    "```"
   ]
  },
  {
   "cell_type": "markdown",
   "id": "cd60cf56-741f-4256-8628-627d724155ee",
   "metadata": {
    "editable": true,
    "slideshow": {
     "slide_type": "subslide"
    },
    "tags": []
   },
   "source": [
    "## OpenMP sections\n",
    "Each section is executed by one thread, with different sections being executed in parallel."
   ]
  },
  {
   "cell_type": "code",
   "execution_count": null,
   "id": "e7110b42-7770-4cf9-ad86-9c861d3e9ba5",
   "metadata": {
    "editable": true,
    "slideshow": {
     "slide_type": ""
    },
    "tags": []
   },
   "outputs": [],
   "source": [
    "#pragma omp parallel num_threads(3)\n",
    "{\n",
    "    int tid = omp_get_thread_num();\n",
    "    #pragma omp sections\n",
    "    {\n",
    "        #pragma omp section\n",
    "        {\n",
    "            std::printf(\"section 1, thread %d\\n\", tid);\n",
    "        }\n",
    "        #pragma omp section\n",
    "            std::printf(\"section 2, thread %d\\n\", tid);\n",
    "        #pragma omp section\n",
    "            std::printf(\"section 3, thread %d\\n\", tid);\n",
    "    }\n",
    "    std::printf(\"thread %d done with sections\\n\", tid);\n",
    "}"
   ]
  },
  {
   "cell_type": "markdown",
   "id": "35fd1bd2-b5f8-4893-b281-91feaa386e52",
   "metadata": {
    "editable": true,
    "slideshow": {
     "slide_type": "fragment"
    },
    "tags": []
   },
   "source": [
    "What happens when varying the number of threads from the number of sections?"
   ]
  },
  {
   "cell_type": "markdown",
   "id": "d2d7b5c4-ebfb-40e1-b0c6-9e4473eabffd",
   "metadata": {
    "editable": true,
    "slideshow": {
     "slide_type": "fragment"
    },
    "tags": []
   },
   "source": [
    "Note: Implicit barrier at the end of the sections unless there's `nowait`"
   ]
  },
  {
   "cell_type": "markdown",
   "id": "821d8ba3-cd9c-4d62-b410-480f476dc6f2",
   "metadata": {
    "editable": true,
    "slideshow": {
     "slide_type": "subslide"
    },
    "tags": []
   },
   "source": [
    "## OpenMP single\n",
    "A section executed by only one thread."
   ]
  },
  {
   "cell_type": "code",
   "execution_count": null,
   "id": "edf66212-d9b2-48a1-9c03-b4891e192756",
   "metadata": {
    "editable": true,
    "slideshow": {
     "slide_type": ""
    },
    "tags": []
   },
   "outputs": [],
   "source": [
    "#pragma omp parallel num_threads(8)\n",
    "{\n",
    "    int tid = omp_get_thread_num();\n",
    "    #pragma omp single\n",
    "    {\n",
    "        std::printf(\"thread %d in single\\n\", tid);\n",
    "    }\n",
    "    std::printf(\"thread %d after single\\n\", tid);\n",
    "}"
   ]
  },
  {
   "cell_type": "markdown",
   "id": "9ae2f180-2001-4100-bca5-20955c7f1a3a",
   "metadata": {
    "editable": true,
    "slideshow": {
     "slide_type": ""
    },
    "tags": []
   },
   "source": [
    "Note: Implicit barrier unless there's `nowait`"
   ]
  },
  {
   "cell_type": "markdown",
   "id": "da63c15f-1168-487d-b65c-1694f2418851",
   "metadata": {
    "editable": true,
    "slideshow": {
     "slide_type": "subslide"
    },
    "tags": []
   },
   "source": [
    "## OpenMP single nowait with GCC"
   ]
  },
  {
   "cell_type": "code",
   "execution_count": null,
   "id": "3f3929f1-ab68-462d-9f93-630dabeb8d8e",
   "metadata": {
    "editable": true,
    "slideshow": {
     "slide_type": ""
    },
    "tags": []
   },
   "outputs": [],
   "source": [
    "%%file singlenowait.cpp\n",
    "#include <omp.h>\n",
    "#include <cstdio>\n",
    "\n",
    "int main(){\n",
    "    #pragma omp parallel num_threads(8)\n",
    "    {\n",
    "        int tid = omp_get_thread_num();\n",
    "        #pragma omp single nowait\n",
    "        {\n",
    "            std::printf(\"thread %d in single\\n\", tid);\n",
    "        }\n",
    "        std::printf(\"thread %d after single\\n\", tid);\n",
    "    }\n",
    "}"
   ]
  },
  {
   "cell_type": "code",
   "execution_count": null,
   "id": "7fc26281-4a8f-4d60-bca0-ad697345fc7c",
   "metadata": {
    "editable": true,
    "slideshow": {
     "slide_type": ""
    },
    "tags": []
   },
   "outputs": [],
   "source": [
    "! g++ -fopenmp singlenowait.cpp && ./a.out"
   ]
  },
  {
   "cell_type": "markdown",
   "id": "68c59d60-f17d-4e28-b5a7-39bcfb5be77f",
   "metadata": {
    "editable": true,
    "slideshow": {
     "slide_type": "slide"
    },
    "tags": []
   },
   "source": [
    "## More on loops\n",
    "![asd](pics/loop.jpg)"
   ]
  },
  {
   "cell_type": "markdown",
   "id": "4cc38390-053e-473c-8db0-2260fc22aac0",
   "metadata": {
    "editable": true,
    "slideshow": {
     "slide_type": "subslide"
    },
    "tags": []
   },
   "source": [
    "## Loop scheduling\n",
    "How to divide iterations among threads?"
   ]
  },
  {
   "cell_type": "code",
   "execution_count": null,
   "id": "c9b7ffc7-deb2-4038-8771-0cafe146da6b",
   "metadata": {
    "editable": true,
    "slideshow": {
     "slide_type": ""
    },
    "tags": []
   },
   "outputs": [],
   "source": [
    "#pragma omp parallel for num_threads(3)\n",
    "for(int i = 0; i < 8; i++)\n",
    "    std::printf(\"thread %d working on iteration %d\\n\",\n",
    "        omp_get_thread_num(), i);"
   ]
  },
  {
   "cell_type": "markdown",
   "id": "6208e1f1-6c01-4206-a601-ee1d8f054e24",
   "metadata": {
    "editable": true,
    "slideshow": {
     "slide_type": "fragment"
    },
    "tags": []
   },
   "source": [
    "When is this not optimal?"
   ]
  },
  {
   "cell_type": "markdown",
   "id": "26874a32-212b-488b-a69f-1e843fd41c45",
   "metadata": {
    "editable": true,
    "slideshow": {
     "slide_type": "fragment"
    },
    "tags": []
   },
   "source": [
    "- The work division can heavily impact performance if the iterations are not equally expensive.\n",
    "\n",
    "Specified with the `schedule` clause:\n",
    "```\n",
    "#pragma omp for schedule(kind[, chunk_size])\n",
    "```"
   ]
  },
  {
   "cell_type": "markdown",
   "id": "15774678-d856-4d81-98ab-4468b78b1cf7",
   "metadata": {
    "editable": true,
    "slideshow": {
     "slide_type": "subslide"
    },
    "tags": []
   },
   "source": [
    "## Different kinds of loop scheduling\n",
    "\n",
    "`static[, chunk]`\n",
    "- Loop iterations are divided into segments of size chunk and distributed cyclically to the threads in the team\n",
    "- If `chunk` is not specified, it might be similar in size to N/nthreads (implementation dependent, see Section [2.11.4](https://www.openmp.org/spec-html/5.1/openmpsu48.html#x73-730002.11.4) in specification)\n",
    "\n",
    "`dynamic[, chunk]`\n",
    "- Loop iterations are divided into segments of size chunk\n",
    "- An idle thread is dynamically assigned the next available chunk. The chunk size defaults to 1 if not specified\n",
    "\n",
    "`guided[, chunk]`\n",
    "- Similar to dynamic but the chunk size decreases exponentially\n",
    "- `chunk` specifies the minimum chunk size. Defaults to 1 if not specified\n",
    "\n",
    "`runtime`: Decide at runtime depending on the value of the `OMP_SCHEDULE` environment variable or the `omp_set_schedule()` library call at some point in your code\n",
    "\n",
    "`auto`: The decision is delegated to the compiler and/or the OpenMP runtime"
   ]
  },
  {
   "cell_type": "markdown",
   "id": "ff251306-7368-4394-9ac3-78533b98fc98",
   "metadata": {
    "editable": true,
    "slideshow": {
     "slide_type": "subslide"
    },
    "tags": []
   },
   "source": [
    "## Scheduling performance in practice\n",
    "Example: Iterations that take increasing time"
   ]
  },
  {
   "cell_type": "code",
   "execution_count": null,
   "id": "66f35c5b-a394-4a91-bb19-621cbdf21974",
   "metadata": {
    "editable": true,
    "slideshow": {
     "slide_type": ""
    },
    "tags": []
   },
   "outputs": [],
   "source": [
    "%%timeit -n 1 -r 1\n",
    "\n",
    "int N = 20;\n",
    "std::vector<int> workers(N); // which thread works on which iteration\n",
    "\n",
    "\n",
    "#pragma omp parallel num_threads(4)\n",
    "{\n",
    "    #pragma omp for schedule(static)\n",
    "    for(int i = 0; i < 20; i++){\n",
    "        workers[i] = omp_get_thread_num();\n",
    "        sleep(i); // milliseconds\n",
    "    }\n",
    "}\n",
    "for(int x: workers) std::printf(\"%d \", x);\n",
    "std::printf(\"\\n\");\n"
   ]
  },
  {
   "cell_type": "markdown",
   "id": "5a570276-7275-4225-995c-bbdfc3907a62",
   "metadata": {
    "editable": true,
    "slideshow": {
     "slide_type": "subslide"
    },
    "tags": []
   },
   "source": [
    "## How the schedule is determined\n",
    "![kldsf](pics/schedule.jpg)"
   ]
  },
  {
   "cell_type": "markdown",
   "id": "59d5f991-36f0-4131-8ed1-c9dc71b7cf3d",
   "metadata": {
    "editable": true,
    "slideshow": {
     "slide_type": "slide"
    },
    "tags": []
   },
   "source": [
    "## Nested loops\n",
    "What will this print?"
   ]
  },
  {
   "cell_type": "code",
   "execution_count": null,
   "id": "efda3565-dd4d-482e-ad61-841bcdc6cd05",
   "metadata": {
    "editable": true,
    "slideshow": {
     "slide_type": ""
    },
    "tags": []
   },
   "outputs": [],
   "source": [
    "#pragma omp parallel for num_threads(4)\n",
    "for(int i = 0; i < 2; i++){\n",
    "    for(int j = 0; j < 4; j++){\n",
    "        std::printf(\"thread %d i=%d j=%d\\n\",\n",
    "            omp_get_thread_num(), i, j);\n",
    "    }\n",
    "}"
   ]
  },
  {
   "cell_type": "markdown",
   "id": "f93c5581-7b86-48da-8a0b-e7b696051f1b",
   "metadata": {
    "editable": true,
    "slideshow": {
     "slide_type": "fragment"
    },
    "tags": []
   },
   "source": [
    "`#pragma omp parallel for` only parallelizes the immediately following loop!"
   ]
  },
  {
   "cell_type": "markdown",
   "id": "bcdb4454-eaf4-42d4-a172-1b1aaafb3e89",
   "metadata": {
    "editable": true,
    "slideshow": {
     "slide_type": "fragment"
    },
    "tags": []
   },
   "source": [
    "Why/when is this bad?"
   ]
  },
  {
   "cell_type": "markdown",
   "id": "9cfaf601-8818-40c2-a13f-831852d74b4f",
   "metadata": {
    "editable": true,
    "slideshow": {
     "slide_type": "fragment"
    },
    "tags": []
   },
   "source": [
    "- Low resource utilization if fewer iterations than threads\n",
    "- Bad load balancing"
   ]
  },
  {
   "cell_type": "markdown",
   "id": "76642bbd-f8f9-4d97-b1f5-2644138fcf2e",
   "metadata": {
    "editable": true,
    "slideshow": {
     "slide_type": "subslide"
    },
    "tags": []
   },
   "source": [
    "## Solution: the collapse clause"
   ]
  },
  {
   "cell_type": "code",
   "execution_count": null,
   "id": "649f2924-c553-48e0-bea0-c6f3920733d9",
   "metadata": {
    "editable": true,
    "slideshow": {
     "slide_type": ""
    },
    "tags": []
   },
   "outputs": [],
   "source": [
    "#pragma omp parallel for num_threads(4) collapse(2)\n",
    "for(int i = 0; i < 2; i++){\n",
    "    for(int j = 0; j < 4; j++){\n",
    "        std::printf(\"thread %d i=%d j=%d\\n\",\n",
    "            omp_get_thread_num(), i, j);\n",
    "    }\n",
    "}"
   ]
  },
  {
   "cell_type": "markdown",
   "id": "2529bc0f-f3d6-43ac-840e-97acafed03ec",
   "metadata": {
    "editable": true,
    "slideshow": {
     "slide_type": ""
    },
    "tags": []
   },
   "source": [
    "`collapse(n)` collapses the `n` immediately following for loops."
   ]
  },
  {
   "cell_type": "markdown",
   "id": "7f0a3aa9-d871-46fe-856e-dfed0d7a722d",
   "metadata": {
    "editable": true,
    "slideshow": {
     "slide_type": "subslide"
    },
    "tags": []
   },
   "source": [
    "## Collapse restrictions\n",
    "\n",
    "- Still a \"structured block\", \"standard\" loops\n",
    "- Perfectly nested loops\n",
    "\n",
    "What about matrix-vector products?"
   ]
  },
  {
   "cell_type": "code",
   "execution_count": null,
   "id": "9ed64c04-39a3-4944-b745-48daf029394f",
   "metadata": {
    "editable": true,
    "slideshow": {
     "slide_type": ""
    },
    "tags": []
   },
   "outputs": [],
   "source": [
    "const int N = 10;\n",
    "double x[N], y[N], A[N][N];\n",
    "\n",
    "#pragma omp parallel for\n",
    "for (int i = 0; i < N; i++) {\n",
    "    y[i] = 0.0;\n",
    "    for (int j = 0; j < N; j++) {\n",
    "        y[i] += A[i][j] * x[j];\n",
    "    }\n",
    "}"
   ]
  },
  {
   "cell_type": "markdown",
   "id": "8157f043-c613-4146-9d76-68ef687170d7",
   "metadata": {
    "editable": true,
    "slideshow": {
     "slide_type": "slide"
    },
    "tags": []
   },
   "source": [
    "## Reductions\n",
    "How to compute a sum in parallel?\n",
    "\n",
    "With what we have learned so far:"
   ]
  },
  {
   "cell_type": "code",
   "execution_count": null,
   "id": "f7e616f2-c2a7-42ff-af5a-f218e666d0d7",
   "metadata": {
    "editable": true,
    "slideshow": {
     "slide_type": ""
    },
    "tags": []
   },
   "outputs": [],
   "source": [
    "int N = 20;\n",
    "int sum = 0;\n",
    "\n",
    "for (int i = 0; i < N; i++){\n",
    "    sum += i;\n",
    "}\n",
    "sum"
   ]
  },
  {
   "cell_type": "markdown",
   "id": "c46ce8b3-4383-45ed-b0d7-2674677c3800",
   "metadata": {
    "editable": true,
    "slideshow": {
     "slide_type": "subslide"
    },
    "tags": []
   },
   "source": [
    "## Automated solution: The reduction clause"
   ]
  },
  {
   "cell_type": "code",
   "execution_count": null,
   "id": "49a849e0-173a-40e0-85fd-da385f670241",
   "metadata": {
    "editable": true,
    "slideshow": {
     "slide_type": ""
    },
    "tags": []
   },
   "outputs": [],
   "source": [
    "int N = 20;\n",
    "int sum = 0;\n",
    "\n",
    "#pragma omp parallel for reduction(+:sum)\n",
    "for (int i = 0; i < N; i++){\n",
    "    sum += i;\n",
    "}\n",
    "sum"
   ]
  },
  {
   "cell_type": "markdown",
   "id": "4c874359-f7dd-4225-800b-b7aa21cd4fed",
   "metadata": {
    "editable": true,
    "slideshow": {
     "slide_type": "fragment"
    },
    "tags": []
   },
   "source": [
    "A *reduction* transforms O(N) inputs to O(1) outputs through an associative binary operator.\n",
    "\n",
    "Allowed binary operators (\"reduction identifiers\"):\n",
    "```\n",
    "+, -, *, &, |, ^, &&, ||, min, max\n",
    "```\n",
    "Can also define your own for custom objects.\n",
    "\n",
    "Each thread gets a private variable with natural initialization (0 for sums, 1 for products, etc.)\n",
    "\n",
    "Syntax:\n",
    "```\n",
    "#pragma omp for reduction(reduction-identifier: list) [other clauses] new-line\n",
    "```"
   ]
  },
  {
   "cell_type": "markdown",
   "id": "f48d27d2-1437-4bf9-aa16-d31b75b177a5",
   "metadata": {
    "editable": true,
    "slideshow": {
     "slide_type": "slide"
    },
    "tags": []
   },
   "source": [
    "## Recap\n",
    "\n",
    "- Introduction to OpenMP and the specification for the standard (your main reference)\n",
    "- Basic terminology for OpenMP and shared memory systems\n",
    "- Worksharing constructs in OpenMP are the main tools to parallelize your code\n",
    "Clauses to control work scheduling of parallelized for-loop (parallel granularity and load-balancing)\n",
    "- How to collapse nested loops to increase resource utilization\n",
    "- Reductions in OpenMP\n",
    "\n",
    "Further reading:\n",
    "- Sections 2.1, 2.4, 2.6, 2.10 and 2.21.5 in *OpenMP API Specifcation v5.1*, OpenMP, 2020 (pdf in git repo as well)\n",
    "- Sections 5.1, 5.2, 5.3, 5.4, 5.5, 5.6 and 5.7 in Pacheco, *An Introduction to Parallel Programming*, Morgan Kaufmann, 2011\n",
    "- Sections 17, 18, 19, 20, 21 and 22 in Eijkhout, [*Parallel Programming for Science and Engineering*](https://web.corral.tacc.utexas.edu/CompEdu/pdf/pcse/EijkhoutParallelProgramming.pdf)"
   ]
  },
  {
   "cell_type": "markdown",
   "id": "2a13d406-4730-47d2-8c13-c029791f1775",
   "metadata": {
    "editable": true,
    "slideshow": {
     "slide_type": ""
    },
    "tags": []
   },
   "source": [
    "# Solutions"
   ]
  },
  {
   "cell_type": "code",
   "execution_count": null,
   "id": "849e5a3b-6bf6-4f0f-97de-6fef947477ab",
   "metadata": {
    "editable": true,
    "slideshow": {
     "slide_type": "skip"
    },
    "tags": []
   },
   "outputs": [],
   "source": [
    "int N = 8;\n",
    "#pragma omp parallel num_threads(3)\n",
    "{\n",
    "    int tid = omp_get_thread_num();\n",
    "    int nthreads = omp_get_num_threads();\n",
    "    int mystart = N*tid/nthreads;\n",
    "    int myend = N*(tid+1)/nthreads;\n",
    "\n",
    "    for(int i = mystart; i < myend; i++)\n",
    "        std::printf(\"-%d/%d-\", i, tid);\n",
    "}"
   ]
  }
 ],
 "metadata": {
  "@deathbeds/jupyterlab-fonts": {
   "fontLicenses": {},
   "fonts": {},
   "styles": {
    ":root": {
     "--jp-code-font-size": "14px",
     "--jp-content-font-size1": "17px"
    }
   }
  },
  "kernelspec": {
   "display_name": "C++11",
   "language": "C++11",
   "name": "xcpp11"
  },
  "language_info": {
   "codemirror_mode": "text/x-c++src",
   "file_extension": ".cpp",
   "mimetype": "text/x-c++src",
   "name": "c++",
   "version": "11"
  }
 },
 "nbformat": 4,
 "nbformat_minor": 5
}
